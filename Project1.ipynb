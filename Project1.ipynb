{
 "cells": [
  {
   "cell_type": "markdown",
   "id": "e2789e4c",
   "metadata": {},
   "source": [
    "# Parking Space Optimization"
   ]
  },
  {
   "attachments": {
    "Free%20Vector%20_%20Cars%20on%20city%20street%20parking%20at%20night.jpg": {
     "image/jpeg": "[encoded data removed]"
    }
   },
   "cell_type": "markdown",
   "id": "c99e5c33",
   "metadata": {},
   "source": [
    "![Free%20Vector%20_%20Cars%20on%20city%20street%20parking%20at%20night.jpg](attachment:Free%20Vector%20_%20Cars%20on%20city%20street%20parking%20at%20night.jpg)"
   ]
  },
  {
   "cell_type": "markdown",
   "id": "16c5ecf2",
   "metadata": {},
   "source": [
    "You are trying to find the best parking space to use that minimizes the time needed to get to your \n",
    "restaurant. There are 50 parking spaces, and you see spaces 1,2, . . . ,50 in order. As you approach each \n",
    "parking space, you see whether it is full or empty. We assume, somewhat heroically, that the probability \n",
    "that each space is occupied follows an independent Bernoulli process, which is to say that each space will \n",
    "be occupied with probability p, but will be free with probability 1 - p, and that each outcome is \n",
    "independent of the other.\n",
    "\n",
    "It takes 2 seconds to drive past each parking space and it takes 8 seconds to walk past. That is, if we park \n",
    "in space n, it will require 8(50 - n) seconds to walk to the restaurant. Furthermore, it would have taken \n",
    "you 2n seconds to get to this space. If you get to the last space without finding an opening, then you will \n",
    "have to drive into a special lot down the block, adding 30 seconds to your trip.\n",
    "\n",
    "We want to find an optimal strategy for accepting or rejecting a parking space."
   ]
  },
  {
   "cell_type": "markdown",
   "id": "7037c8d6",
   "metadata": {},
   "source": [
    "**(a)** Give the sets of state and action spaces."
   ]
  },
  {
   "cell_type": "markdown",
   "id": "f77a8a8c",
   "metadata": {},
   "source": [
    "There are 50 parking spaces,51 represents 'restaurant',and 52 represents 'special lot'. S = 1,2,3,4,...,50,51,52"
   ]
  },
  {
   "cell_type": "code",
   "execution_count": 1,
   "id": "43e0d635",
   "metadata": {},
   "outputs": [],
   "source": [
    "states1 = [j for j in range(1,53)] "
   ]
  },
  {
   "cell_type": "markdown",
   "id": "18595750",
   "metadata": {},
   "source": [
    "\"Accepting (A)\" and \"Rejecting (R)\" of the park lots are action spaces of the agent."
   ]
  },
  {
   "cell_type": "code",
   "execution_count": 2,
   "id": "da009857",
   "metadata": {},
   "outputs": [],
   "source": [
    "action_spaces1 = ('A', 'R') "
   ]
  },
  {
   "cell_type": "markdown",
   "id": "2c9b2148",
   "metadata": {},
   "source": [
    "**(b)** Give the optimality equations for solving this problem."
   ]
  },
  {
   "cell_type": "markdown",
   "id": "febd7ab9",
   "metadata": {},
   "source": [
    "In this problem, our objective is to **minimize** the time required for parking while also ensuring that the selected parking space is closer to the restaurant. However, for applying the Bellman optimality function, this objective is adjusted to a **maximization** problem:"
   ]
  },
  {
   "cell_type": "markdown",
   "id": "6c9323c9",
   "metadata": {},
   "source": [
    "If the park space s is empty with probability of (1 - p), agent can 'Accept' or 'Reject' the park lot:\n",
    "\n",
    "V(s) = p * (-2s + V(s+1)) + (1 - p) * (− 2s − 8(50−s) + V(51))\n",
    "\n",
    "If the park space is full, the agent must 'Reject' the park lot:\n",
    "\n",
    "V(s) = −2s + V(s+1)\n",
    "\n",
    "If the agent 'Rejects' 50st park lot, and it will go to special lot with plus 30 seconds:\n",
    "\n",
    "V(s) = − 2s - 30"
   ]
  },
  {
   "cell_type": "markdown",
   "id": "ae5b383a",
   "metadata": {},
   "source": [
    "**V(s) :** Expected total cost for state s.\n",
    "\n",
    "**p :** Probability of the parking space being occupied.\n",
    "\n",
    "\n",
    "**s :** Current parking space.\n",
    "\n",
    "**V(s+1):** Expected total cost for the next parking space.\n",
    "\n",
    "\n",
    "**2 * s :** Cost of arrival when taking the park action.\n",
    "\n",
    "\n",
    "**8 * (50−s) :** Cost of walking to the restaurant when taking the park action.\n",
    "\n",
    "\n",
    "**V(51) :** Expected total cost for the place where the restaurant is."
   ]
  },
  {
   "cell_type": "markdown",
   "id": "563aad9b",
   "metadata": {},
   "source": [
    "**(c)** You have just looked at space 45, which was empty. There are five more spaces remaining (46 through \n",
    "50). What should you do? Using p = 0.6, find the optimal policy by solving your optimality equations for \n",
    "parking spaces 46 through 50."
   ]
  },
  {
   "cell_type": "markdown",
   "id": "3bf0fbcb",
   "metadata": {},
   "source": [
    "Parking lots are occupied with p = 0.6 (empty with p = 0.4) between 46 and 50, so probability and related rewards would be:"
   ]
  },
  {
   "cell_type": "code",
   "execution_count": 3,
   "id": "1ea271aa",
   "metadata": {},
   "outputs": [],
   "source": [
    "import numpy as np"
   ]
  },
  {
   "cell_type": "code",
   "execution_count": 4,
   "id": "8ba891ab",
   "metadata": {},
   "outputs": [],
   "source": [
    "action_space = ('A', 'R')"
   ]
  },
  {
   "cell_type": "code",
   "execution_count": 5,
   "id": "2f4e6740",
   "metadata": {},
   "outputs": [],
   "source": [
    "States = [i for i in range(46, 53)]"
   ]
  },
  {
   "cell_type": "code",
   "execution_count": 6,
   "id": "2761e76d",
   "metadata": {},
   "outputs": [],
   "source": [
    "probs = {   \n",
    "    (46,'A',51): 0.4,  # p = 0.6 (park lot is occupied), p = 1-0.6 = 0.4 (park lot is empty)\n",
    "    (46,'R',47): 1, \n",
    "    (47,'A',51): 0.4,\n",
    "    (47,'R',48): 1,\n",
    "    (48,'A',51): 0.4,\n",
    "    (48,'R',49): 1,\n",
    "    (49,'A',51): 0.4,\n",
    "    (49,'R',50): 1,\n",
    "    (50,'A',51): 0.4,\n",
    "    (50,'R',52): 1\n",
    "}"
   ]
  },
  {
   "cell_type": "code",
   "execution_count": 7,
   "id": "907494dd",
   "metadata": {},
   "outputs": [],
   "source": [
    "Rewards = {(46, 'A', 51): -123,  # - 2 * 46 - 8 * (50 - 46) + 1 = - 123\n",
    "           (46, 'R', 47): -92,   # - 2 * 46 + 0 = - 92\n",
    "           (47, 'A', 51): -117,  # - 2 * 47 - 8 * (50 - 47) + 1 = - 117\n",
    "           (47, 'R', 48): -94,   # - 2 * 47 + 0 = - 94\n",
    "           (48, 'A', 51): -111,  # - 2 * 48 - 8 * (50 - 48) + 1 = - 111\n",
    "           (48, 'R', 49): -96,   # - 2 * 48 + 0 = - 96\n",
    "           (49, 'A', 51): -105,  # - 2 * 49 - 8 * (50 - 49) + 1 = - 105\n",
    "           (49, 'R', 50): -98,   # - 2 * 49 + 0 = - 98\n",
    "           (50, 'A', 51): -99,   # - 2 * 50 - 8 * (50 - 50) + 1 = - 99\n",
    "           (50, 'R', 52): -130,  # - 2 * 50 - 30 = - 130\n",
    "           }"
   ]
  },
  {
   "cell_type": "code",
   "execution_count": 8,
   "id": "3f1059c2",
   "metadata": {},
   "outputs": [],
   "source": [
    "def is_terminal(s):\n",
    "    return s in [51,52]"
   ]
  },
  {
   "cell_type": "code",
   "execution_count": 9,
   "id": "cecb3a80",
   "metadata": {},
   "outputs": [],
   "source": [
    "def get_next_state(s, a):\n",
    "    if a == 'A' and s <= 50:\n",
    "        return 51\n",
    "    elif a == 'R' and s <= 49:\n",
    "        return s + 1\n",
    "    elif a == 'R' and s == 50:\n",
    "        return 52"
   ]
  },
  {
   "cell_type": "code",
   "execution_count": 10,
   "id": "5630532f",
   "metadata": {},
   "outputs": [],
   "source": [
    "transition_probs = {}\n",
    "rewards={}\n",
    "for s in States:\n",
    "    if not is_terminal(s):\n",
    "        for a in action_space:\n",
    "            for s2 in States:\n",
    "                if (s,a,s2) in probs:\n",
    "                    transition_probs[(s, a, s2)]=probs.get((s, a, s2),0)\n",
    "                else:\n",
    "                    transition_probs[(s, a, s2)]=0\n",
    "                if (s,a,s2) in Rewards:\n",
    "                    rewards[(s, a, s2)]=Rewards.get((s, a, s2),0)\n",
    "                else:\n",
    "                    rewards[(s, a, s2)]=0"
   ]
  },
  {
   "cell_type": "code",
   "execution_count": 11,
   "id": "209a3c9f",
   "metadata": {},
   "outputs": [
    {
     "data": {
      "text/plain": [
       "{(46, 'A', 46): 0,\n",
       " (46, 'A', 47): 0,\n",
       " (46, 'A', 48): 0,\n",
       " (46, 'A', 49): 0,\n",
       " (46, 'A', 50): 0,\n",
       " (46, 'A', 51): 0.4,\n",
       " (46, 'A', 52): 0,\n",
       " (46, 'R', 46): 0,\n",
       " (46, 'R', 47): 1,\n",
       " (46, 'R', 48): 0,\n",
       " (46, 'R', 49): 0,\n",
       " (46, 'R', 50): 0,\n",
       " (46, 'R', 51): 0,\n",
       " (46, 'R', 52): 0,\n",
       " (47, 'A', 46): 0,\n",
       " (47, 'A', 47): 0,\n",
       " (47, 'A', 48): 0,\n",
       " (47, 'A', 49): 0,\n",
       " (47, 'A', 50): 0,\n",
       " (47, 'A', 51): 0.4,\n",
       " (47, 'A', 52): 0,\n",
       " (47, 'R', 46): 0,\n",
       " (47, 'R', 47): 0,\n",
       " (47, 'R', 48): 1,\n",
       " (47, 'R', 49): 0,\n",
       " (47, 'R', 50): 0,\n",
       " (47, 'R', 51): 0,\n",
       " (47, 'R', 52): 0,\n",
       " (48, 'A', 46): 0,\n",
       " (48, 'A', 47): 0,\n",
       " (48, 'A', 48): 0,\n",
       " (48, 'A', 49): 0,\n",
       " (48, 'A', 50): 0,\n",
       " (48, 'A', 51): 0.4,\n",
       " (48, 'A', 52): 0,\n",
       " (48, 'R', 46): 0,\n",
       " (48, 'R', 47): 0,\n",
       " (48, 'R', 48): 0,\n",
       " (48, 'R', 49): 1,\n",
       " (48, 'R', 50): 0,\n",
       " (48, 'R', 51): 0,\n",
       " (48, 'R', 52): 0,\n",
       " (49, 'A', 46): 0,\n",
       " (49, 'A', 47): 0,\n",
       " (49, 'A', 48): 0,\n",
       " (49, 'A', 49): 0,\n",
       " (49, 'A', 50): 0,\n",
       " (49, 'A', 51): 0.4,\n",
       " (49, 'A', 52): 0,\n",
       " (49, 'R', 46): 0,\n",
       " (49, 'R', 47): 0,\n",
       " (49, 'R', 48): 0,\n",
       " (49, 'R', 49): 0,\n",
       " (49, 'R', 50): 1,\n",
       " (49, 'R', 51): 0,\n",
       " (49, 'R', 52): 0,\n",
       " (50, 'A', 46): 0,\n",
       " (50, 'A', 47): 0,\n",
       " (50, 'A', 48): 0,\n",
       " (50, 'A', 49): 0,\n",
       " (50, 'A', 50): 0,\n",
       " (50, 'A', 51): 0.4,\n",
       " (50, 'A', 52): 0,\n",
       " (50, 'R', 46): 0,\n",
       " (50, 'R', 47): 0,\n",
       " (50, 'R', 48): 0,\n",
       " (50, 'R', 49): 0,\n",
       " (50, 'R', 50): 0,\n",
       " (50, 'R', 51): 0,\n",
       " (50, 'R', 52): 1}"
      ]
     },
     "execution_count": 11,
     "metadata": {},
     "output_type": "execute_result"
    }
   ],
   "source": [
    "transition_probs"
   ]
  },
  {
   "cell_type": "code",
   "execution_count": 12,
   "id": "a8fe5c21",
   "metadata": {},
   "outputs": [
    {
     "data": {
      "text/plain": [
       "{(46, 'A', 46): 0,\n",
       " (46, 'A', 47): 0,\n",
       " (46, 'A', 48): 0,\n",
       " (46, 'A', 49): 0,\n",
       " (46, 'A', 50): 0,\n",
       " (46, 'A', 51): -123,\n",
       " (46, 'A', 52): 0,\n",
       " (46, 'R', 46): 0,\n",
       " (46, 'R', 47): -92,\n",
       " (46, 'R', 48): 0,\n",
       " (46, 'R', 49): 0,\n",
       " (46, 'R', 50): 0,\n",
       " (46, 'R', 51): 0,\n",
       " (46, 'R', 52): 0,\n",
       " (47, 'A', 46): 0,\n",
       " (47, 'A', 47): 0,\n",
       " (47, 'A', 48): 0,\n",
       " (47, 'A', 49): 0,\n",
       " (47, 'A', 50): 0,\n",
       " (47, 'A', 51): -117,\n",
       " (47, 'A', 52): 0,\n",
       " (47, 'R', 46): 0,\n",
       " (47, 'R', 47): 0,\n",
       " (47, 'R', 48): -94,\n",
       " (47, 'R', 49): 0,\n",
       " (47, 'R', 50): 0,\n",
       " (47, 'R', 51): 0,\n",
       " (47, 'R', 52): 0,\n",
       " (48, 'A', 46): 0,\n",
       " (48, 'A', 47): 0,\n",
       " (48, 'A', 48): 0,\n",
       " (48, 'A', 49): 0,\n",
       " (48, 'A', 50): 0,\n",
       " (48, 'A', 51): -111,\n",
       " (48, 'A', 52): 0,\n",
       " (48, 'R', 46): 0,\n",
       " (48, 'R', 47): 0,\n",
       " (48, 'R', 48): 0,\n",
       " (48, 'R', 49): -96,\n",
       " (48, 'R', 50): 0,\n",
       " (48, 'R', 51): 0,\n",
       " (48, 'R', 52): 0,\n",
       " (49, 'A', 46): 0,\n",
       " (49, 'A', 47): 0,\n",
       " (49, 'A', 48): 0,\n",
       " (49, 'A', 49): 0,\n",
       " (49, 'A', 50): 0,\n",
       " (49, 'A', 51): -105,\n",
       " (49, 'A', 52): 0,\n",
       " (49, 'R', 46): 0,\n",
       " (49, 'R', 47): 0,\n",
       " (49, 'R', 48): 0,\n",
       " (49, 'R', 49): 0,\n",
       " (49, 'R', 50): -98,\n",
       " (49, 'R', 51): 0,\n",
       " (49, 'R', 52): 0,\n",
       " (50, 'A', 46): 0,\n",
       " (50, 'A', 47): 0,\n",
       " (50, 'A', 48): 0,\n",
       " (50, 'A', 49): 0,\n",
       " (50, 'A', 50): 0,\n",
       " (50, 'A', 51): -99,\n",
       " (50, 'A', 52): 0,\n",
       " (50, 'R', 46): 0,\n",
       " (50, 'R', 47): 0,\n",
       " (50, 'R', 48): 0,\n",
       " (50, 'R', 49): 0,\n",
       " (50, 'R', 50): 0,\n",
       " (50, 'R', 51): 0,\n",
       " (50, 'R', 52): -130}"
      ]
     },
     "execution_count": 12,
     "metadata": {},
     "output_type": "execute_result"
    }
   ],
   "source": [
    "rewards"
   ]
  },
  {
   "cell_type": "code",
   "execution_count": 13,
   "id": "0e170268",
   "metadata": {},
   "outputs": [],
   "source": [
    "def reward(space, action):\n",
    "    return Rewards.get((space, action, 51), 1)"
   ]
  },
  {
   "cell_type": "code",
   "execution_count": 14,
   "id": "d83213fe",
   "metadata": {},
   "outputs": [],
   "source": [
    "V = {}\n",
    "for s in States:\n",
    "    V[s] = 0"
   ]
  },
  {
   "cell_type": "code",
   "execution_count": 15,
   "id": "8a65514d",
   "metadata": {},
   "outputs": [],
   "source": [
    "policy = {}\n",
    "for s in States:\n",
    "    if not is_terminal(s):\n",
    "        best_a = None\n",
    "        best_value = float('-inf')\n",
    "        for a in action_space:\n",
    "            v = 0\n",
    "            for s2 in States:\n",
    "                r = rewards.get((s, a, s2), 0)\n",
    "                v += transition_probs.get((s, a, s2), 0) * (r + V[s2])\n",
    "            if v > best_value:\n",
    "                best_value = v\n",
    "                best_a = a\n",
    "                policy[s] = best_a"
   ]
  },
  {
   "cell_type": "code",
   "execution_count": 16,
   "id": "8a3b3a4c",
   "metadata": {},
   "outputs": [
    {
     "data": {
      "text/plain": [
       "{46: 'A', 47: 'A', 48: 'A', 49: 'A', 50: 'A'}"
      ]
     },
     "execution_count": 16,
     "metadata": {},
     "output_type": "execute_result"
    }
   ],
   "source": [
    "policy"
   ]
  },
  {
   "cell_type": "markdown",
   "id": "023f5fec",
   "metadata": {},
   "source": [
    "**d)** Give the optimal value in part (c) corresponding to your optimal solution"
   ]
  },
  {
   "cell_type": "code",
   "execution_count": 17,
   "id": "ddf21ba8",
   "metadata": {},
   "outputs": [],
   "source": [
    "policy = {46: 'A', 47: 'A', 48: 'A', 49: 'A', 50: 'A'}"
   ]
  },
  {
   "cell_type": "code",
   "execution_count": 18,
   "id": "4a01c147",
   "metadata": {},
   "outputs": [],
   "source": [
    "def policy_evaluation(policy):\n",
    "    V = {}\n",
    "    SMALL_ENOUGH = 1e-3\n",
    "    for s in States:\n",
    "        V[s] = 0\n",
    "    it = 0\n",
    "    while True:\n",
    "        biggest_change = 0\n",
    "        for s in States:\n",
    "            if s == 51:  \n",
    "                V[s] = 0\n",
    "            else:\n",
    "                old_v = V[s]\n",
    "                new_v = 0\n",
    "                a = policy.get(s)\n",
    "                r = reward(s, a)  \n",
    "                for s2 in States:\n",
    "                    new_v += probs.get((s, a, s2), 0) * (r + V[s2])\n",
    "                V[s] = new_v\n",
    "                biggest_change = max(biggest_change, abs(old_v - V[s]))\n",
    "        print(\"iter:\", it, \"biggest_change:\", biggest_change)\n",
    "        it += 1\n",
    "        if biggest_change < SMALL_ENOUGH:\n",
    "            break\n",
    "    print(\"\\n\\n\")\n",
    "    return V"
   ]
  },
  {
   "cell_type": "code",
   "execution_count": 19,
   "id": "24ffb7d5",
   "metadata": {},
   "outputs": [
    {
     "name": "stdout",
     "output_type": "stream",
     "text": [
      "iter: 0 biggest_change: 49.2\n",
      "iter: 1 biggest_change: 0\n",
      "\n",
      "\n",
      "\n",
      "space 46: optimal_value: -49.2\n",
      "space 47: optimal_value: -46.800000000000004\n",
      "space 48: optimal_value: -44.400000000000006\n",
      "space 49: optimal_value: -42.0\n",
      "space 50: optimal_value: -39.6\n",
      "space 51: optimal_value: 0\n",
      "space 52: optimal_value: 0.0\n"
     ]
    }
   ],
   "source": [
    "optimal_values = policy_evaluation(policy)\n",
    "for space, value in optimal_values.items():\n",
    "    print(f\"space {space}: optimal_value: {value}\")"
   ]
  },
  {
   "cell_type": "code",
   "execution_count": null,
   "id": "778d9680",
   "metadata": {},
   "outputs": [],
   "source": []
  },
  {
   "cell_type": "code",
   "execution_count": null,
   "id": "6cb954e6",
   "metadata": {},
   "outputs": [],
   "source": []
  }
 ],
 "metadata": {
  "kernelspec": {
   "display_name": "Python 3 (ipykernel)",
   "language": "python",
   "name": "python3"
  },
  "language_info": {
   "codemirror_mode": {
    "name": "ipython",
    "version": 3
   },
   "file_extension": ".py",
   "mimetype": "text/x-python",
   "name": "python",
   "nbconvert_exporter": "python",
   "pygments_lexer": "ipython3",
   "version": "3.9.13"
  }
 },
 "nbformat": 4,
 "nbformat_minor": 5
}
